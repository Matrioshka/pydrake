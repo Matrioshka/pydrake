{
 "cells": [
  {
   "cell_type": "code",
   "execution_count": 51,
   "metadata": {},
   "outputs": [
    {
     "name": "stdout",
     "output_type": "stream",
     "text": [
      "Number of stars in the Milky Way 100000000000.000000\n",
      "Fraction of stars with planetary systems 0.117201\n",
      "Number of planets suitable for life 4.000000\n",
      "Fraction of suitable planets that develop life 0.441433\n",
      "Fraction of life that becomes sentient and eventually intelligent 0.168233\n",
      "Fraction of intelligent life that advances to the point of communication 0.141374\n",
      "Adjustment for incidence of self-destruction 1.10132e-06\n",
      "The number of broadcasting civilizations : 542.066930\n"
     ]
    }
   ],
   "source": [
    "# adapted from : https://github.com/DeaconDesperado/pydrake/blob/master/drake.py\n",
    "import random\n",
    "import math\n",
    "\n",
    "def drake(map):\n",
    "    if type(map)==list:\n",
    "        map = drakify(map)\n",
    "    print (\"Number of stars in the Milky Way %f\" % map['R'])\n",
    "    print (\"Fraction of stars with planetary systems %f\" % map['Fp'])\n",
    "    print (\"Number of planets suitable for life %f\" % map['Ne'])\n",
    "    print (\"Fraction of suitable planets that develop life %f\" %  map['Fl'])\n",
    "    print (\"Fraction of life that becomes sentient and eventually intelligent %f\" % map['Fi'])\n",
    "    print (\"Fraction of intelligent life that advances to the point of communication %f\" %  map['Fc'])\n",
    "    print (\"Years a civilization remains detectable / Adjustment for incidence of self-destruction %g\" % map['L'])\n",
    "    N = map['R']*map['Fp']*map['Ne']*map['Fl']*map['Fi']*map['Fc']*map['L']\n",
    "    print (\"The number of broadcasting civilizations : %f\" % N)\n",
    "    return N\n",
    "\n",
    "\n",
    "def drakify(vals):\n",
    "    vars = ['R','Fp','Ne','Fl','Fi','Fc','L']\n",
    "    map = dict()\n",
    "\n",
    "    if len(vals)!=len(vars):\n",
    "        raise Exception('Invalid number of values passed')\n",
    "\n",
    "    for key in range(len(vars)):\n",
    "        map[vars[key]]=vals[key]\n",
    "    return map\n",
    "\n",
    "def genrand():\n",
    "    vals = dict()\n",
    "    vals['R'] = 1E11\n",
    "    vals['Fp'] = random.uniform(0.1,0.3)\n",
    "    vals['Ne'] = random.randrange(1,5)\n",
    "    vals['Fl'] = random.uniform(0.1,0.5)\n",
    "    vals['Fi'] = random.uniform(0.01,0.2)\n",
    "    vals['Fc'] = random.uniform(0.01,0.2)\n",
    "    vals['L'] = daysearth()\n",
    "    return vals\n",
    "\n",
    "def daysearth():\n",
    "    age = 4.54E7\n",
    "    indays = age*365\n",
    "    cc = 50*365\n",
    "    L = cc/indays\n",
    "    return L\n",
    "\n",
    "\n",
    "if __name__ == '__main__':\n",
    "    sagan_vals = [1E11,.25,2,.5,.1,.1,1E-8]\n",
    "    yr2018_vals = [2E11,.25,2,.5,.1,.1,1E-8]\n",
    "    N = drake(genrand())\n",
    "    #N = drake(sagan_vals)\n",
    "    #print (\"The number of broadcasting civilizations : %f\" % N)\n",
    "    #math.floor(N))\n",
    "    \n",
    "    "
   ]
  },
  {
   "cell_type": "code",
   "execution_count": 52,
   "metadata": {},
   "outputs": [
    {
     "name": "stdout",
     "output_type": "stream",
     "text": [
      "Number of stars in the Milky Way 100000000000.000000\n",
      "Fraction of stars with planetary systems 0.250000\n",
      "Number of planets suitable for life 2.000000\n",
      "Fraction of suitable planets that develop life 0.500000\n",
      "Fraction of life that becomes sentient and eventually intelligent 0.100000\n",
      "Fraction of intelligent life that advances to the point of communication 0.100000\n",
      "Adjustment for incidence of self-destruction 1e-08\n",
      "The number of broadcasting civilizations : 2.500000\n"
     ]
    }
   ],
   "source": [
    "N = drake(sagan_vals)"
   ]
  },
  {
   "cell_type": "code",
   "execution_count": 47,
   "metadata": {},
   "outputs": [
    {
     "name": "stdout",
     "output_type": "stream",
     "text": [
      "Number of stars in the Milky Way 200000000000.000000\n",
      "Fraction of stars with planetary systems 0.250000\n",
      "Number of planets suitable for life 2.000000\n",
      "Fraction of suitable planets that develop life 0.500000\n",
      "Fraction of life that becomes sentient and eventually intelligent 0.100000\n",
      "Fraction of intelligent life that advances to the point of communication 0.100000\n",
      "Adjustment for incidence of self-destruction 1e-08\n",
      "5.0\n"
     ]
    }
   ],
   "source": [
    "yr2018_vals = [2E11,.25,2,.5,.1,.1,1E-8]\n",
    "N = drake(yr2018_vals)"
   ]
  },
  {
   "cell_type": "code",
   "execution_count": 48,
   "metadata": {},
   "outputs": [
    {
     "name": "stdout",
     "output_type": "stream",
     "text": [
      "Number of stars in the Milky Way 200000000000.000000\n",
      "Fraction of stars with planetary systems 0.450000\n",
      "Number of planets suitable for life 5.000000\n",
      "Fraction of suitable planets that develop life 0.200000\n",
      "Fraction of life that becomes sentient and eventually intelligent 0.050000\n",
      "Fraction of intelligent life that advances to the point of communication 0.500000\n",
      "Adjustment for incidence of self-destruction 500\n",
      "1125000000000.0\n"
     ]
    }
   ],
   "source": [
    "# http://www.astrodigital.org/astronomy/drake_equation.html\n",
    "N = drake( [2E11,.45,5,.2,.05,.5,500] )\n"
   ]
  },
  {
   "cell_type": "code",
   "execution_count": 49,
   "metadata": {},
   "outputs": [
    {
     "name": "stdout",
     "output_type": "stream",
     "text": [
      "Number of stars in the Milky Way 200000000000.000000\n",
      "Fraction of stars with planetary systems 0.450000\n",
      "Number of planets suitable for life 5.000000\n",
      "Fraction of suitable planets that develop life 0.200000\n",
      "Fraction of life that becomes sentient and eventually intelligent 0.050000\n",
      "Fraction of intelligent life that advances to the point of communication 0.500000\n",
      "Adjustment for incidence of self-destruction 600\n",
      "1350000000000.0\n"
     ]
    }
   ],
   "source": [
    "N = drake( [2E11,.45,5,.2,.05,.5,600] )"
   ]
  },
  {
   "cell_type": "code",
   "execution_count": null,
   "metadata": {},
   "outputs": [],
   "source": []
  }
 ],
 "metadata": {
  "kernelspec": {
   "display_name": "Python [conda env:cryptocurrency-analysis]",
   "language": "python",
   "name": "conda-env-cryptocurrency-analysis-py"
  },
  "language_info": {
   "codemirror_mode": {
    "name": "ipython",
    "version": 3
   },
   "file_extension": ".py",
   "mimetype": "text/x-python",
   "name": "python",
   "nbconvert_exporter": "python",
   "pygments_lexer": "ipython3",
   "version": "3.6.4"
  }
 },
 "nbformat": 4,
 "nbformat_minor": 2
}
